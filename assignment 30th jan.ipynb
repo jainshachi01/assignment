{
 "cells": [
  {
   "cell_type": "code",
   "execution_count": 1,
   "id": "6636dbae-c1a5-46f7-a738-36316e96d5e5",
   "metadata": {},
   "outputs": [
    {
     "name": "stdin",
     "output_type": "stream",
     "text": [
      "enter the percentage of the student: 85\n"
     ]
    },
    {
     "name": "stdout",
     "output_type": "stream",
     "text": [
      "Grade B\n"
     ]
    }
   ],
   "source": [
    "#Answer 1:-\n",
    "#program to disply the grade of students\n",
    "n = int(input(\"enter the percentage of the student:\"))\n",
    "if (n > 90):\n",
    "    print(\"Grade A\")\n",
    "elif (n > 80 and n <= 90):\n",
    "    print(\"Grade B\")\n",
    "elif (n >= 60 and n<= 80):\n",
    "    print(\"Grade C\")\n",
    "else :\n",
    "    print(\"Grade D\")"
   ]
  },
  {
   "cell_type": "code",
   "execution_count": 2,
   "id": "9d8c017f-1215-4fad-8487-ff275f8a2e91",
   "metadata": {},
   "outputs": [
    {
     "name": "stdin",
     "output_type": "stream",
     "text": [
      "enter your road tax 5000\n"
     ]
    },
    {
     "name": "stdout",
     "output_type": "stream",
     "text": [
      "5%\n"
     ]
    }
   ],
   "source": [
    "#Answer 2:-\n",
    "#program to display the road tax to be paid\n",
    "cost_price=int(input(\"enter your road tax\"))\n",
    "if cost_price > 100000:\n",
    "    print(\"15%\")\n",
    "elif cost_price > 50000 and cost_price <=100000:\n",
    "    print(\"10%\")\n",
    "elif cost_price <=50000:\n",
    "    print(\"5%\")"
   ]
  },
  {
   "cell_type": "code",
   "execution_count": 3,
   "id": "6a82b2cf-f1b8-471b-af8a-0f832ba86b8b",
   "metadata": {},
   "outputs": [
    {
     "name": "stdin",
     "output_type": "stream",
     "text": [
      "enter the city:  delhi\n"
     ]
    },
    {
     "name": "stdout",
     "output_type": "stream",
     "text": [
      "Red Fort\n"
     ]
    }
   ],
   "source": [
    "#Answer 3:-\n",
    "#program to display the monuments of that city\n",
    "city = input(\"enter the city: \")\n",
    "if city == \"delhi\":\n",
    "    print(\"Red Fort\")\n",
    "elif city == \"agra\":\n",
    "    print(\"Taj Mahal\")\n",
    "elif city == \"jaipur\":\n",
    "    print(\"Jal Mahal\")\n",
    "else:\n",
    "    print(\"no information about the monument\")"
   ]
  },
  {
   "cell_type": "code",
   "execution_count": 4,
   "id": "28cfd113-a607-4dc8-9e78-6d683039865a",
   "metadata": {},
   "outputs": [
    {
     "name": "stdin",
     "output_type": "stream",
     "text": [
      "enter the number:  15\n"
     ]
    },
    {
     "name": "stdout",
     "output_type": "stream",
     "text": [
      "1\n"
     ]
    }
   ],
   "source": [
    "#Answer 4:-\n",
    "num = int(input(\"enter the number: \"))\n",
    "count = 0\n",
    "while num >= 10:\n",
    "    if (num % 3 == 0):\n",
    "        count = count + 1\n",
    "    num = num / 3\n",
    "print (count)"
   ]
  },
  {
   "cell_type": "code",
   "execution_count": null,
   "id": "6ff0e6df-d1d9-488d-a783-6dac492cb0f4",
   "metadata": {},
   "outputs": [],
   "source": [
    "#Answer 5:-\n",
    "#Python While Loop is used to execute a block of statements repeatedly until a given condition is satisfied.\n",
    "#And when the condition becomes false, the line immediately after the loop in the program is executed.\n",
    "#While loop falls under the category of indefinite iteration.\n",
    "#Indefinite iteration means that the number of times the loop is executed isn’t specified explicitly in advance. \n",
    "#Syntax: \n",
    "#while expression:\n",
    " #   statement(s)\n"
   ]
  },
  {
   "cell_type": "code",
   "execution_count": 5,
   "id": "0add17be-32e3-419c-9e8b-0a0794109d8c",
   "metadata": {},
   "outputs": [
    {
     "name": "stdout",
     "output_type": "stream",
     "text": [
      "* \n",
      "* * \n",
      "* * * \n",
      "* * * * \n",
      "* * * * * \n"
     ]
    }
   ],
   "source": [
    "#Answer 6:- (1)\n",
    "# Right-Angled Triangle\n",
    "rows = 5\n",
    "i = 1\n",
    "while i <= rows:\n",
    "    j = 1\n",
    "    while j <= i:\n",
    "        print('*', end=' ')\n",
    "        j += 1\n",
    "    print()\n",
    "    i += 1"
   ]
  },
  {
   "cell_type": "code",
   "execution_count": 6,
   "id": "39f91df2-071f-4937-b6ec-910ebd308a5e",
   "metadata": {},
   "outputs": [
    {
     "name": "stdout",
     "output_type": "stream",
     "text": [
      "* * * * * \n",
      "* * * * \n",
      "* * * \n",
      "* * \n",
      "* \n"
     ]
    }
   ],
   "source": [
    "#Answer 6:- (2)\n",
    "# Inverted Right-Angled Triangle\n",
    "rows = 5\n",
    "i = rows\n",
    "while i >= 1:\n",
    "    j = 1\n",
    "    while j <= i:\n",
    "        print('*', end=' ')\n",
    "        j += 1\n",
    "    print()\n",
    "    i -= 1"
   ]
  },
  {
   "cell_type": "code",
   "execution_count": 16,
   "id": "1c93fa0c-9532-4f2c-9e44-9c013c3aef19",
   "metadata": {},
   "outputs": [
    {
     "name": "stdout",
     "output_type": "stream",
     "text": [
      "        * \n",
      "      * * * \n",
      "    * * * * * \n",
      "  * * * * * * * \n",
      "* * * * * * * * * \n"
     ]
    }
   ],
   "source": [
    "#Answer 6:- (3)\n",
    "# Pyramid\n",
    "rows = 5\n",
    "i = 1\n",
    "while i <= rows:\n",
    "    # Print spaces\n",
    "    space = rows - i\n",
    "    j = 1\n",
    "    while j <= space:\n",
    "        print(' ', end=' ')\n",
    "        j += 1\n",
    "    # Print stars\n",
    "    k = 1\n",
    "    while k <= (2 * i - 1):\n",
    "        print('*', end=' ')\n",
    "        k += 1\n",
    "    print()\n",
    "    i += 1"
   ]
  },
  {
   "cell_type": "code",
   "execution_count": 17,
   "id": "7b101483-704a-458b-b613-68c760ddfb7a",
   "metadata": {},
   "outputs": [
    {
     "name": "stdout",
     "output_type": "stream",
     "text": [
      "10\n",
      "9\n",
      "8\n",
      "7\n",
      "6\n",
      "5\n",
      "4\n",
      "3\n",
      "2\n",
      "1\n"
     ]
    }
   ],
   "source": [
    "#Answer 7:-\n",
    "# Reverse counting from 10 to 1\n",
    "num = 10\n",
    "\n",
    "while num >= 1:\n",
    "    print(num)\n",
    "    num -= 1"
   ]
  },
  {
   "cell_type": "code",
   "execution_count": 19,
   "id": "1893ce09-78ab-44e3-8bac-75a62f0eb09a",
   "metadata": {},
   "outputs": [
    {
     "name": "stdout",
     "output_type": "stream",
     "text": [
      "10\n",
      "9\n",
      "8\n",
      "7\n",
      "6\n",
      "5\n",
      "4\n",
      "3\n",
      "2\n",
      "1\n"
     ]
    }
   ],
   "source": [
    "#Answer 8:-\n",
    "#Reverse counting from 10 to 1\n",
    "count=10\n",
    "while count>0:\n",
    "    print(count)   \n",
    "    count=count-1"
   ]
  },
  {
   "cell_type": "code",
   "execution_count": null,
   "id": "591add41-d4ca-4446-8563-09273edd4f4e",
   "metadata": {},
   "outputs": [],
   "source": []
  }
 ],
 "metadata": {
  "kernelspec": {
   "display_name": "Python 3 (ipykernel)",
   "language": "python",
   "name": "python3"
  },
  "language_info": {
   "codemirror_mode": {
    "name": "ipython",
    "version": 3
   },
   "file_extension": ".py",
   "mimetype": "text/x-python",
   "name": "python",
   "nbconvert_exporter": "python",
   "pygments_lexer": "ipython3",
   "version": "3.10.8"
  }
 },
 "nbformat": 4,
 "nbformat_minor": 5
}
