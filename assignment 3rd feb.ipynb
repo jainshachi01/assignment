{
 "cells": [
  {
   "cell_type": "code",
   "execution_count": 4,
   "id": "075f1a40-be75-4027-bf03-87c7e2672e8c",
   "metadata": {},
   "outputs": [
    {
     "name": "stdout",
     "output_type": "stream",
     "text": [
      "[1, 3, 5, 7, 9, 11, 13, 15, 17, 19, 21, 23]\n"
     ]
    }
   ],
   "source": [
    "#Answer 1:-\n",
    "#def keyword is used to create a function\n",
    "def odd():\n",
    "    l=[]\n",
    "    for i in range(25):\n",
    "        if(i%2!=0):\n",
    "            l.append(i)\n",
    "    return l\n",
    "print(odd())"
   ]
  },
  {
   "cell_type": "code",
   "execution_count": 5,
   "id": "6563d7f7-7b96-4af0-8b35-643e18111cb7",
   "metadata": {},
   "outputs": [
    {
     "name": "stdout",
     "output_type": "stream",
     "text": [
      "First argument : Hello\n",
      "Next argument through *argv : Welcome\n",
      "Next argument through *argv : to\n",
      "Next argument through *argv : GeeksforGeeks\n"
     ]
    }
   ],
   "source": [
    "#Answer 2:- (1)\n",
    "#What is Python *args?\n",
    "#The special syntax *args in function definitions in Python is used to pass a variable number of arguments to a function.\n",
    "#It is used to pass a non-keyworded, variable-length argument list. \n",
    "def myFun(arg1, *argv):\n",
    "\tprint(\"First argument :\", arg1)\n",
    "\tfor arg in argv:\n",
    "\t\tprint(\"Next argument through *argv :\", arg)\n",
    "\n",
    "\n",
    "myFun('Hello', 'Welcome', 'to', 'GeeksforGeeks')"
   ]
  },
  {
   "cell_type": "code",
   "execution_count": 8,
   "id": "986afdfc-7c04-4082-a5d3-e5509468da72",
   "metadata": {},
   "outputs": [
    {
     "name": "stdout",
     "output_type": "stream",
     "text": [
      "first == Shachi\n",
      "last == Jain\n"
     ]
    }
   ],
   "source": [
    "#Answer 2:-\n",
    "#What is Python **kwargs?\n",
    "#The special syntax **kwargs in function definitions in Python is used to pass a keyworded, variable-length argument list.\n",
    "#We use the name kwargs with the double star. \n",
    "#The reason is that the double star allows us to pass through keyword arguments (and any number of them).\n",
    "def myFun(**kwargs):\n",
    "\tfor key, value in kwargs.items():\n",
    "\t\tprint(\"%s == %s\" % (key, value))\n",
    "\n",
    "\n",
    "# Driver code\n",
    "myFun(first='Shachi', last='Jain')"
   ]
  },
  {
   "cell_type": "code",
   "execution_count": 9,
   "id": "09899565-80af-4735-bdea-2ceb0e926127",
   "metadata": {},
   "outputs": [
    {
     "name": "stdout",
     "output_type": "stream",
     "text": [
      "2\n",
      "4\n",
      "6\n",
      "8\n",
      "10\n"
     ]
    }
   ],
   "source": [
    "#Answer 3:-\n",
    "#An iterator in Python is an object that is used to iterate over iterable objects like lists, tuples, dicts, and sets. \n",
    "#The Python iterators object is initialized using the iter() method.\n",
    "#It uses the next() method for iteration.\n",
    "#iter() method id used\n",
    "lis1 = [2,4,6,8,10,12,14,16,18,20]\n",
    "lis1 = iter(lis1)\n",
    "print(next(lis1))\n",
    "print(next(lis1))\n",
    "print(next(lis1))\n",
    "print(next(lis1))\n",
    "print(next(lis1))"
   ]
  },
  {
   "cell_type": "code",
   "execution_count": 11,
   "id": "38d846ff-849c-4a5f-8bab-04b21fd55951",
   "metadata": {},
   "outputs": [
    {
     "name": "stdout",
     "output_type": "stream",
     "text": [
      "0\n",
      "1\n",
      "1\n",
      "2\n",
      "3\n",
      "5\n",
      "8\n",
      "13\n",
      "21\n",
      "34\n"
     ]
    }
   ],
   "source": [
    "#Answer 4:-\n",
    "#Generator-Function: A generator-function is defined like a normal function,\n",
    "#but whenever it needs to generate a value, it does so with the yield keyword rather than return.\n",
    "#If the body of a def contains yield, the function automatically becomes a generator function\n",
    "#yield keyword is used to create a generator function. \n",
    "#A type of function that is memory efficient and can be used like an iterator object.\n",
    "def test_fib(n):\n",
    "    a,b=0,1\n",
    "    for i in range (n):\n",
    "        yield a\n",
    "        a,b=b,a+b\n",
    "        \n",
    "for i in test_fib(10):\n",
    "    \n",
    "    print(i)"
   ]
  },
  {
   "cell_type": "code",
   "execution_count": 12,
   "id": "09603188-41fe-445c-a7c9-8c689fbff8a6",
   "metadata": {},
   "outputs": [
    {
     "name": "stdout",
     "output_type": "stream",
     "text": [
      "2 3 5 7 11 13 17 19 23 29 31 37 41 43 47 53 59 61 67 71 "
     ]
    }
   ],
   "source": [
    "#Answer 5:-\n",
    "def isPrime(num):\n",
    "    for i in range(2,num):\n",
    "        if num%i==0:\n",
    "            return False\n",
    "    return True\n",
    "def primeGenerator(n):\n",
    "    num=2\n",
    "    while n:\n",
    "        if isPrime(num):\n",
    "            yield num\n",
    "            n=n-1\n",
    "        num=num+1\n",
    "    return\n",
    "\n",
    "it=primeGenerator(20)\n",
    "for e in it:\n",
    "    print(e,end=' ')"
   ]
  },
  {
   "cell_type": "code",
   "execution_count": 13,
   "id": "3764c5d8-7af7-47a9-8b5d-aa273e45a4bb",
   "metadata": {},
   "outputs": [
    {
     "name": "stdout",
     "output_type": "stream",
     "text": [
      "0\n",
      "1\n",
      "1\n",
      "2\n",
      "3\n",
      "5\n",
      "8\n",
      "13\n",
      "21\n",
      "34\n"
     ]
    }
   ],
   "source": [
    "#Answer 6:-\n",
    "def test_fib1():\n",
    "    a,b=0,1\n",
    "    while True:\n",
    "        yield a\n",
    "        a,b=b,a+b\n",
    "        \n",
    "fib=test_fib1()\n",
    "\n",
    "for i in range(10):\n",
    "    print(next(fib))"
   ]
  },
  {
   "cell_type": "code",
   "execution_count": 14,
   "id": "fdba3c49-bf2f-4874-b166-2bd8c3c0d069",
   "metadata": {},
   "outputs": [
    {
     "data": {
      "text/plain": [
       "['p', 'w', 's', 'k', 'i', 'l', 'l', 's']"
      ]
     },
     "execution_count": 14,
     "metadata": {},
     "output_type": "execute_result"
    }
   ],
   "source": [
    "#Answer 7:-\n",
    "s = \"pwskills\"\n",
    "\n",
    "[i for i in s]"
   ]
  },
  {
   "cell_type": "code",
   "execution_count": 15,
   "id": "8da997fa-5f55-44ca-9b01-209524c55204",
   "metadata": {},
   "outputs": [
    {
     "name": "stdin",
     "output_type": "stream",
     "text": [
      "enter the number 12321\n"
     ]
    },
    {
     "name": "stdout",
     "output_type": "stream",
     "text": [
      "palindrome number\n"
     ]
    }
   ],
   "source": [
    "#Answer 8:-\n",
    "i=int(input(\"enter the number\"))\n",
    "x=i\n",
    "rev=0\n",
    "while (i>0):\n",
    "    rev=rev*10+i%10\n",
    "    i=i//10\n",
    "if(x==rev):\n",
    "    print(\"palindrome number\")\n",
    "else :\n",
    "    print(\"not palindrome\")"
   ]
  },
  {
   "cell_type": "code",
   "execution_count": null,
   "id": "ceedf3ba-ac8f-40cd-8e81-40ab9237f7b4",
   "metadata": {},
   "outputs": [],
   "source": [
    "#Answer 9:-\n"
   ]
  }
 ],
 "metadata": {
  "kernelspec": {
   "display_name": "Python 3 (ipykernel)",
   "language": "python",
   "name": "python3"
  },
  "language_info": {
   "codemirror_mode": {
    "name": "ipython",
    "version": 3
   },
   "file_extension": ".py",
   "mimetype": "text/x-python",
   "name": "python",
   "nbconvert_exporter": "python",
   "pygments_lexer": "ipython3",
   "version": "3.10.8"
  }
 },
 "nbformat": 4,
 "nbformat_minor": 5
}
