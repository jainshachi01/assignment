{
 "cells": [
  {
   "cell_type": "code",
   "execution_count": null,
   "id": "35e27ba8-c40d-496c-808e-bb503fc02d8b",
   "metadata": {},
   "outputs": [],
   "source": [
    "Answer 1:- Python is developed by GUIDO VAN ROSSUM, and first released on FEBRUARY 20,1991."
   ]
  },
  {
   "cell_type": "code",
   "execution_count": null,
   "id": "b83d3f10-dc09-43f9-9a0e-5edb5db75fec",
   "metadata": {},
   "outputs": [],
   "source": [
    "Answer 2:- Python is an interpreted, interactive language, which supports OBJECT-ORIENTED, STRUCTURED, and FUNCLIONAL PROGRAMMING."
   ]
  },
  {
   "cell_type": "code",
   "execution_count": null,
   "id": "7387cc0c-98b9-4d8a-97cc-6d5b47ee5c33",
   "metadata": {},
   "outputs": [],
   "source": [
    "Answer 3:- YES, python is a case_sensitive language."
   ]
  },
  {
   "cell_type": "code",
   "execution_count": null,
   "id": "137302b8-a4a2-4671-a80a-a0a9cc2f3737",
   "metadata": {},
   "outputs": [],
   "source": [
    "Answer 4:- Python file extensions are:\n",
    "    .py\n",
    "    .pyi\n",
    "    .pyc\n",
    "    .pyd\n",
    "    .pyo\n",
    "    .pyw\n",
    "    .pyz"
   ]
  },
  {
   "cell_type": "code",
   "execution_count": null,
   "id": "28f3640c-23a7-46b9-a037-5eb193156087",
   "metadata": {},
   "outputs": [],
   "source": [
    "Answer 5:- Python is an INTERPRETED language, which means the source code of a python program is converted into bytecode that is then executed by the python virtual machine."
   ]
  },
  {
   "cell_type": "code",
   "execution_count": null,
   "id": "0f05936c-5da7-48f4-90c6-f148ca545f48",
   "metadata": {},
   "outputs": [],
   "source": [
    "Answer 6:- A module, a function body, and a class definition."
   ]
  },
  {
   "cell_type": "code",
   "execution_count": null,
   "id": "a1d58396-bffa-4fc1-8ac8-fd5273da3826",
   "metadata": {},
   "outputs": [],
   "source": [
    "Answer 7:- For single line comment in python programming language we use HASH SYMBOL,#."
   ]
  },
  {
   "cell_type": "code",
   "execution_count": null,
   "id": "3164082b-2881-48a8-a906-842cc3ec3adf",
   "metadata": {},
   "outputs": [],
   "source": [
    "Answer 8:- The function sys.version can help us to find the version of python that we are currently working on."
   ]
  },
  {
   "cell_type": "code",
   "execution_count": null,
   "id": "0f20c0fc-c49e-41de-9afd-dfc2a3e75c97",
   "metadata": {},
   "outputs": [],
   "source": [
    "Answer 9:- Python supports the creation of anonymous functions at runtime, using a constructor called LAMBDA."
   ]
  },
  {
   "cell_type": "code",
   "execution_count": null,
   "id": "f74f3f54-b905-4a38-a9cd-41263d89385a",
   "metadata": {},
   "outputs": [],
   "source": [
    "Answer 10:- pip Install Packages."
   ]
  },
  {
   "cell_type": "code",
   "execution_count": null,
   "id": "9472c173-4e44-4b16-b5a4-fc568b844794",
   "metadata": {},
   "outputs": [],
   "source": [
    "Answer 11:- Few built-in functions:\n",
    "            print()\n",
    "            type()\n",
    "            input()\n",
    "            abs()\n",
    "            pow()\n",
    "            dir()\n",
    "            sorted()\n",
    "            max()\n",
    "            round()\n",
    "            divmod()\n",
    "            id()\n",
    "            ord()\n",
    "            len()\n",
    "            sum()\n",
    "            help()"
   ]
  },
  {
   "cell_type": "code",
   "execution_count": null,
   "id": "07ad48dc-eb82-44f4-8ab2-44ef45e19303",
   "metadata": {},
   "outputs": [],
   "source": [
    "Answer 12:- The maximum possible length of an idnetifier in python is 79 CHARACTERS."
   ]
  },
  {
   "cell_type": "code",
   "execution_count": null,
   "id": "e5288284-3789-401a-bc30-49bfa009b9a8",
   "metadata": {},
   "outputs": [],
   "source": [
    "Answer 13:- Benefits of using python programming language:-\n",
    "            -> Simple to use and understand.\n",
    "            -> Free and open source.\n",
    "            -> Productivity has increased.\n",
    "            -> Interpreted language.\n",
    "            -> Extensive library.\n",
    "            -> Dynamically Typed.\n",
    "            -> Portability.\n",
    "            -> Supportive community."
   ]
  },
  {
   "cell_type": "code",
   "execution_count": null,
   "id": "6237d73c-417e-48ab-956f-cdc110b7274f",
   "metadata": {},
   "outputs": [],
   "source": [
    "Answer 14:- The python memory management is involved only in the allocation of the bytes object returned as a result."
   ]
  },
  {
   "cell_type": "code",
   "execution_count": null,
   "id": "047ced3a-efbd-43b3-96c5-8f05b55c1969",
   "metadata": {},
   "outputs": [],
   "source": [
    "Answer 15:- Install python from the link https://www.python.org/downloads/\n",
    "            After this, install it on your PC. Look for the location where PYTHON has been installed on yiur PC using tge following command on your command prompt: cmd python.\n",
    "            Then go to advanced system settings and add new variable and name it as PYTHON_NAME and paste the copied path.\n",
    "            Then look for the path variable, select it's value and select edit. Add a semicolon towards the end of the value if it's not present and then type %PYTHON_HOME%"
   ]
  },
  {
   "cell_type": "code",
   "execution_count": null,
   "id": "0b7fc343-2478-4830-9dc6-f694fdcfce1c",
   "metadata": {},
   "outputs": [],
   "source": [
    "Answer 16:- YES, Indentation is important in python to define the blocks of statements."
   ]
  }
 ],
 "metadata": {
  "kernelspec": {
   "display_name": "Python 3 (ipykernel)",
   "language": "python",
   "name": "python3"
  },
  "language_info": {
   "codemirror_mode": {
    "name": "ipython",
    "version": 3
   },
   "file_extension": ".py",
   "mimetype": "text/x-python",
   "name": "python",
   "nbconvert_exporter": "python",
   "pygments_lexer": "ipython3",
   "version": "3.10.8"
  }
 },
 "nbformat": 4,
 "nbformat_minor": 5
}
