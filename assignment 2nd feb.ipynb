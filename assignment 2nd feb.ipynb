{
 "cells": [
  {
   "cell_type": "code",
   "execution_count": 1,
   "id": "92c7dcce-1055-4091-9105-15e35236e6c3",
   "metadata": {},
   "outputs": [
    {
     "name": "stdin",
     "output_type": "stream",
     "text": [
      "enter the number 5\n"
     ]
    },
    {
     "data": {
      "text/plain": [
       "120"
      ]
     },
     "execution_count": 1,
     "metadata": {},
     "output_type": "execute_result"
    }
   ],
   "source": [
    "#Answer 1:-\n",
    "# we use a for loop to iterate over an array.\n",
    "# we Use a for loop when you know the loop should execute n times.\n",
    "# we Use a while loop for reading a file into a variable.\n",
    "# we Use a while loop when asking for user input.\n",
    "# we Use a while loop when the increment value is nonstandard.\n",
    "number=int(input(\"enter the number\"))\n",
    "factorial=1\n",
    "while number>0:\n",
    "    factorial=factorial*number\n",
    "    number=number-1\n",
    "factorial"
   ]
  },
  {
   "cell_type": "code",
   "execution_count": 2,
   "id": "67ffde54-b537-4832-909e-ef093848c681",
   "metadata": {},
   "outputs": [
    {
     "name": "stdout",
     "output_type": "stream",
     "text": [
      "55\n"
     ]
    }
   ],
   "source": [
    "#Answer 2:- (1)\n",
    "#sum of first 10 natural number using for loop\n",
    "starting_point=0\n",
    "counter=1\n",
    "for i in range(10):\n",
    "    starting_point=starting_point+counter\n",
    "    counter=counter+1\n",
    "print(starting_point)"
   ]
  },
  {
   "cell_type": "code",
   "execution_count": 3,
   "id": "26ea17c2-ba40-4069-a1f5-e62daf8f9111",
   "metadata": {},
   "outputs": [
    {
     "data": {
      "text/plain": [
       "55"
      ]
     },
     "execution_count": 3,
     "metadata": {},
     "output_type": "execute_result"
    }
   ],
   "source": [
    "#Answer 2:- (2)\n",
    "#sum of first 10 natural number using while loop\n",
    "starting_point=0\n",
    "counter=1\n",
    "while counter<=10:\n",
    "    starting_point=starting_point+counter\n",
    "    counter=counter+1\n",
    "starting_point  "
   ]
  },
  {
   "cell_type": "code",
   "execution_count": 4,
   "id": "576ab05e-18fe-4e92-9f09-80ce26059747",
   "metadata": {},
   "outputs": [
    {
     "name": "stdout",
     "output_type": "stream",
     "text": [
      "3628800\n"
     ]
    }
   ],
   "source": [
    "#Answer 2:- (3)\n",
    "#product of first 10 natural number using for loop\n",
    "starting_point=1\n",
    "counter=1\n",
    "for i in range(10):\n",
    "     starting_point=starting_point*counter\n",
    "     counter=counter+1\n",
    "print(starting_point) "
   ]
  },
  {
   "cell_type": "code",
   "execution_count": 5,
   "id": "740608ee-9c34-4490-b518-5f92cd6e9943",
   "metadata": {},
   "outputs": [
    {
     "data": {
      "text/plain": [
       "3628800"
      ]
     },
     "execution_count": 5,
     "metadata": {},
     "output_type": "execute_result"
    }
   ],
   "source": [
    "#Answer 2:- (4)\n",
    "#product of first 10 natural number using while loop\n",
    "starting_point=1\n",
    "counter=1\n",
    "while counter<=10:\n",
    "    starting_point=starting_point*counter\n",
    "    counter=counter+1\n",
    "starting_point"
   ]
  },
  {
   "cell_type": "code",
   "execution_count": 7,
   "id": "f0513699-8cc4-480d-88df-7980c552d2da",
   "metadata": {},
   "outputs": [
    {
     "name": "stdin",
     "output_type": "stream",
     "text": [
      "enter the number of unit which is consumed in a month 310\n"
     ]
    },
    {
     "name": "stdout",
     "output_type": "stream",
     "text": [
      "2250.0\n"
     ]
    }
   ],
   "source": [
    "#Answer 3:-\n",
    "#electricity bill\n",
    "units=int(input(\"enter the number of unit which is consumed in a month\"))\n",
    "if(units<=100 and units>=0):\n",
    "    payamount=4.5*units\n",
    "elif(units<=200 and units>100):\n",
    "      payamount=(4.5*100)+(6*(units-100))\n",
    "elif(units<=300  and units>200):\n",
    "      payamount=(4.5*100)+ (6*100) +(10*(units-200))\n",
    "elif(units>300):\n",
    "    payamount=(4.5*100)+ (6*100)+(10*100)+(20*(units-300))\n",
    "      \n",
    "else:\n",
    "    print(\"no use of electricity\")\n",
    "print(payamount)"
   ]
  },
  {
   "cell_type": "code",
   "execution_count": 8,
   "id": "1fb818b9-789f-4926-aec2-7ca27569954f",
   "metadata": {},
   "outputs": [
    {
     "name": "stdout",
     "output_type": "stream",
     "text": [
      "[0, 2, 4, 5, 6, 8, 10, 12, 14, 15, 16, 18, 20, 22, 24, 25, 26, 28, 30, 32, 34, 35, 36, 38, 40, 42, 44, 45, 46, 48, 50, 52, 54, 55, 56, 58, 60, 62, 64, 65, 66, 68, 70, 72, 74, 75, 76, 78, 80, 82, 84, 85, 86, 88, 90, 92, 94, 95, 96, 98, 100]\n"
     ]
    }
   ],
   "source": [
    "#Answer 4:-\n",
    "l=[]\n",
    "l1=[]\n",
    "starting_point=0\n",
    "starting_point2=0\n",
    "\n",
    "for starting_point in range(101):\n",
    "    starting_point=starting_point+1\n",
    "    l.append(starting_point)\n",
    "for starting_point2 in range(101):\n",
    "    if((starting_point2**3)%4==0 or (starting_point2**3)%5==0):\n",
    "        l1.append(starting_point2)\n",
    "    starting_point2=starting_point2+1\n",
    "print(l1)"
   ]
  },
  {
   "cell_type": "code",
   "execution_count": 9,
   "id": "9ad8dc4d-5e4f-4d42-9791-889b0311d1e5",
   "metadata": {},
   "outputs": [
    {
     "name": "stdout",
     "output_type": "stream",
     "text": [
      "12\n"
     ]
    }
   ],
   "source": [
    "#Answer 5:-\n",
    "s=(\"i want to become a data scientist\")\n",
    "s1=(\"a\",\"e\",\"i\",\"o\",\"u\")\n",
    "len(s)\n",
    "count=0\n",
    "for i in range(len(s)):\n",
    "    for j in range(5):\n",
    "        if(s[i]==s1[j]):\n",
    "            count+=1\n",
    "print(count)"
   ]
  },
  {
   "cell_type": "code",
   "execution_count": null,
   "id": "fb481e16-d636-4f6a-a01b-7a72cc6eb734",
   "metadata": {},
   "outputs": [],
   "source": []
  }
 ],
 "metadata": {
  "kernelspec": {
   "display_name": "Python 3 (ipykernel)",
   "language": "python",
   "name": "python3"
  },
  "language_info": {
   "codemirror_mode": {
    "name": "ipython",
    "version": 3
   },
   "file_extension": ".py",
   "mimetype": "text/x-python",
   "name": "python",
   "nbconvert_exporter": "python",
   "pygments_lexer": "ipython3",
   "version": "3.10.8"
  }
 },
 "nbformat": 4,
 "nbformat_minor": 5
}
